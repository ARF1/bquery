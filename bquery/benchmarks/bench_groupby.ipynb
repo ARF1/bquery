{
 "metadata": {
  "name": "",
  "signature": "sha256:5f94744e0d81082c75f535157bb6df2fa1d493b633db03e85a37eb6ebda55710"
 },
 "nbformat": 3,
 "nbformat_minor": 0,
 "worksheets": [
  {
   "cells": [
    {
     "cell_type": "markdown",
     "metadata": {},
     "source": [
      "# Bquery - groupby on-disk\n",
      "\n",
      "In this notebook we will compare the performance several groupby solutions over out-of-core (disk-based) bcolz files against Python's golden standard: the fast, in-memory Pandas framework.\n",
      "\n",
      "Our goal is to show how with bcolz you can approach (and in some cases even exceed) the Pandas in-memory performance while working with solutions that only have the intermediate and/or end result in-memory.\n",
      "\n",
      "We will have two test cases: \n",
      "1) a query with a single groupby column and a single aggregated (sum) column\n",
      "2) a query with five groupby columns and three aggregated (sum) columns\n",
      "\n",
      "This is a simple example with 1 million rows, but you can experiment with other sizes to see how they affect the outcome.\n",
      "\n",
      "This performance comparison was run on a 16gb ram, 8 core, SSD-based DigitalOcean server on Ubuntu 14.04. System caching might influence the results, but in our experience this very much resembles our real-life experience. We encourage anyone to have their own test and share them with us.\n",
      "\n",
      "For the impatient, you can scroll to the end to see a graphical presentation of the performance results.\n",
      "\n",
      "The bquery framework provides methods to perform query and aggregation operations on bcolz containers, as well as accelerate these operations by pre-processing possible groupby columns.\n",
      "\n",
      "Bcolz is a light weight package that provides columnar, chunked data containers that can be compressed either in-memory and on-disk. that are compressed by default not only for reducing memory/disk storage, but also to improve I/O speed. It excels at storing and sequentially accessing large, numerical data sets.  \n",
      "\n",
      "The code you'll find below was inspired on the following nicely written notebooks:  \n",
      "Blaze - http://nbviewer.ipython.org/url/blaze.pydata.org/notebooks/timings-bcolz.ipynb  \n",
      "Bcolz - http://nbviewer.ipython.org/github/Blosc/movielens-bench/blob/master/querying-ep14.ipynb"
     ]
    },
    {
     "cell_type": "code",
     "collapsed": false,
     "input": [
      "%matplotlib inline"
     ],
     "language": "python",
     "metadata": {},
     "outputs": [],
     "prompt_number": 1
    },
    {
     "cell_type": "code",
     "collapsed": false,
     "input": [
      "import matplotlib.pyplot as plt\n",
      "import numpy as np\n",
      "import itertools as itt\n",
      "import time\n",
      "import shutil\n",
      "import os\n",
      "import contextlib\n",
      "import pandas as pd\n",
      "import blaze as blz\n",
      "import bquery\n",
      "import cytoolz\n",
      "from cytoolz.curried import pluck as cytoolz_pluck\n",
      "from collections import OrderedDict\n",
      "import copy\n",
      "from prettyprint import pp"
     ],
     "language": "python",
     "metadata": {},
     "outputs": [],
     "prompt_number": 2
    },
    {
     "cell_type": "code",
     "collapsed": false,
     "input": [
      "elapsed_times = OrderedDict()\n",
      "\n",
      "@contextlib.contextmanager\n",
      "def ctime(message=None):\n",
      "    \"Counts the time spent in some context\"\n",
      "    assert message is not None\n",
      "    global elapsed_times\n",
      "    t_elapsed = 0.0\n",
      "    print('\\n')\n",
      "    t = time.time()\n",
      "    yield\n",
      "    if message:\n",
      "        print message + \":  \", \n",
      "    t_elapsed = time.time() - t\n",
      "    print round(t_elapsed, 4), \"sec\"\n",
      "    elapsed_times[message] = t_elapsed\n",
      "\n",
      "\n",
      "ga = itt.cycle(['ES', 'NL'])\n",
      "gb = itt.cycle(['b1', 'b2', 'b3', 'b4', 'b5'])\n",
      "gx = itt.cycle([1, 2])\n",
      "gy = itt.cycle([-1, -2])\n",
      "rootdir = 'bench-data.bcolz'\n",
      "if os.path.exists(rootdir):\n",
      "    shutil.rmtree(rootdir)\n",
      "\n",
      "n_rows = 1000000\n",
      "\n",
      "# -- data\n",
      "z = np.fromiter(((a, b, x, y) for a, b, x, y in itt.izip(ga, gb, gx, gy)),\n",
      "                dtype='S2,S2,i8,i8', count=n_rows)"
     ],
     "language": "python",
     "metadata": {},
     "outputs": [],
     "prompt_number": 3
    },
    {
     "cell_type": "code",
     "collapsed": false,
     "input": [
      "ct = bquery.ctable(z, rootdir=rootdir)\n",
      "ct.flush()"
     ],
     "language": "python",
     "metadata": {},
     "outputs": [],
     "prompt_number": 4
    },
    {
     "cell_type": "markdown",
     "metadata": {},
     "source": [
      "### pandas"
     ]
    },
    {
     "cell_type": "code",
     "collapsed": false,
     "input": [
      "print('Simple Test Case')\n",
      "df = pd.DataFrame(z)\n",
      "with ctime(message='pandas'):\n",
      "    result = df.groupby(['f0'], sort=False, as_index=False)['f2'].sum()\n",
      "print(result)"
     ],
     "language": "python",
     "metadata": {},
     "outputs": [
      {
       "output_type": "stream",
       "stream": "stdout",
       "text": [
        "Simple Test Case\n",
        "\n"
       ]
      },
      {
       "output_type": "stream",
       "stream": "stdout",
       "text": [
        "\n",
        "pandas:  "
       ]
      },
      {
       "output_type": "stream",
       "stream": "stdout",
       "text": [
        " 0.0763 sec\n",
        "   f0       f2\n",
        "0  ES   500000\n",
        "1  NL  1000000\n"
       ]
      }
     ],
     "prompt_number": 5
    },
    {
     "cell_type": "markdown",
     "metadata": {},
     "source": [
      "### blaze"
     ]
    },
    {
     "cell_type": "code",
     "collapsed": false,
     "input": [
      "print('Simple Test Case')\n",
      "blaze_data = blz.Data(ct.rootdir)\n",
      "expr = blz.by(blaze_data.f0, sum_f2=blaze_data.f2.sum())\n",
      "with ctime(message='blaze (pandas + bcolz)'):\n",
      "    result = blz.compute(expr)\n",
      "print result"
     ],
     "language": "python",
     "metadata": {},
     "outputs": [
      {
       "output_type": "stream",
       "stream": "stdout",
       "text": [
        "Simple Test Case\n",
        "\n",
        "\n",
        "blaze (pandas + bcolz):  "
       ]
      },
      {
       "output_type": "stream",
       "stream": "stdout",
       "text": [
        " 0.3195 sec\n",
        "   f0   sum_f2\n",
        "0  ES   500000\n",
        "1  NL  1000000\n"
       ]
      }
     ],
     "prompt_number": 6
    },
    {
     "cell_type": "markdown",
     "metadata": {},
     "source": [
      "### bquery without caching"
     ]
    },
    {
     "cell_type": "code",
     "collapsed": false,
     "input": [
      "print('Simple Test Case')\n",
      "with ctime(message='bquery + bcolz'):\n",
      "    result = ct.groupby(['f0'], ['f2'])\n",
      "print(result)"
     ],
     "language": "python",
     "metadata": {},
     "outputs": [
      {
       "output_type": "stream",
       "stream": "stdout",
       "text": [
        "Simple Test Case\n",
        "\n",
        "\n",
        "bquery + bcolz:  "
       ]
      },
      {
       "output_type": "stream",
       "stream": "stdout",
       "text": [
        " 0.1922 sec\n",
        "[('ES', 500000) ('NL', 1000000)]\n"
       ]
      }
     ],
     "prompt_number": 7
    },
    {
     "cell_type": "markdown",
     "metadata": {},
     "source": [
      "### bquery with caching"
     ]
    },
    {
     "cell_type": "code",
     "collapsed": false,
     "input": [
      "print('Simple Test Case')\n",
      "with ctime(message='bquery, create factorization cache'):\n",
      "    ct.cache_factor(['f0'], refresh=True)\n",
      "\n",
      "with ctime(message='bquery + bcolz (fact. cached)'):\n",
      "    result = ct.groupby(['f0'], ['f2'])\n",
      "print(result)"
     ],
     "language": "python",
     "metadata": {},
     "outputs": [
      {
       "output_type": "stream",
       "stream": "stdout",
       "text": [
        "Simple Test Case\n",
        "\n",
        "\n",
        "bquery, create factorization cache:  "
       ]
      },
      {
       "output_type": "stream",
       "stream": "stdout",
       "text": [
        " 0.0923 sec\n",
        "\n",
        "\n",
        "bquery + bcolz (fact. cached):  "
       ]
      },
      {
       "output_type": "stream",
       "stream": "stdout",
       "text": [
        " 0.1311 sec\n",
        "[('ES', 500000) ('NL', 1000000)]\n"
       ]
      }
     ],
     "prompt_number": 8
    },
    {
     "cell_type": "markdown",
     "metadata": {},
     "source": [
      "### Running Times Summary"
     ]
    },
    {
     "cell_type": "code",
     "collapsed": false,
     "input": [
      "print('Simple Test Case Running Time')\n",
      "elapsed_times_bak = OrderedDict({ k: v for (k,v) in sorted(elapsed_times.iteritems())})\n",
      "pp(elapsed_times_bak)"
     ],
     "language": "python",
     "metadata": {},
     "outputs": [
      {
       "output_type": "stream",
       "stream": "stdout",
       "text": [
        "Simple Test Case Running Time\n",
        "{\n",
        "    \"blaze (pandas + bcolz)\": 0.3194708824157715, \n",
        "    \"bquery + bcolz\": 0.1922469139099121, \n",
        "    \"bquery + bcolz (fact. cached)\": 0.13110613822937012, \n",
        "    \"bquery, create factorization cache\": 0.09228396415710449, \n",
        "    \"pandas\": 0.07632184028625488\n",
        "}\n"
       ]
      }
     ],
     "prompt_number": 9
    },
    {
     "cell_type": "code",
     "collapsed": false,
     "input": [
      "print('Simple Test Case Running Time relative to Pandas')\n",
      "elapsed_times_bak = OrderedDict({ k: v for (k,v) in sorted(elapsed_times.iteritems())})\n",
      "pp(elapsed_times_bak)\n",
      "elapsed_times = elapsed_times_bak\n",
      "elapsed_times_norm = OrderedDict({ k: v/elapsed_times['pandas'] for (k,v) in sorted(elapsed_times.iteritems())})\n",
      "print '\\nNormalized running time'\n",
      "pp(elapsed_times_norm)"
     ],
     "language": "python",
     "metadata": {},
     "outputs": [
      {
       "output_type": "stream",
       "stream": "stdout",
       "text": [
        "Simple Test Case Running Time relative to Pandas\n",
        "{\n",
        "    \"blaze (pandas + bcolz)\": 0.3194708824157715, \n",
        "    \"bquery + bcolz\": 0.1922469139099121, \n",
        "    \"bquery + bcolz (fact. cached)\": 0.13110613822937012, \n",
        "    \"bquery, create factorization cache\": 0.09228396415710449, \n",
        "    \"pandas\": 0.07632184028625488\n",
        "}\n",
        "\n",
        "Normalized running time\n",
        "{\n",
        "    \"blaze (pandas + bcolz)\": 4.185838302870513, \n",
        "    \"bquery + bcolz\": 2.5188977779999187, \n",
        "    \"bquery + bcolz (fact. cached)\": 1.7178063020708054, \n",
        "    \"bquery, create factorization cache\": 1.2091422823530147, \n",
        "    \"pandas\": 1.0\n",
        "}\n"
       ]
      }
     ],
     "prompt_number": 10
    },
    {
     "cell_type": "markdown",
     "metadata": {},
     "source": [
      "### Graphic Summary"
     ]
    },
    {
     "cell_type": "code",
     "collapsed": false,
     "input": [
      "if 'bquery, create factorization cache' in elapsed_times_norm:\n",
      "    base_bquery = elapsed_times_norm.pop('bquery, create factorization cache')\n",
      "labels = []\n",
      "val = []\n",
      "for k,v in sorted(elapsed_times_norm.iteritems(), reverse=True):\n",
      "    labels.append(k)\n",
      "    val.append(v)\n",
      "\n",
      "pos = np.arange(len(elapsed_times_norm))+.5    # the bar centers on the y axis\n",
      "\n",
      "print elapsed_times_norm.keys()\n",
      "plt.figure(1, figsize=[15,5])\n",
      "plt.grid(True)\n",
      "plt.barh(pos,val, align='center')\n",
      "plt.barh(pos,[0, base_bquery, 0,0], \n",
      "         left=[0, elapsed_times_norm['bquery + bcolz (fact. cached)'], 0, 0],\n",
      "         align='center', color = '#FFFFCC')\n",
      "plt.yticks(pos, labels, fontsize=15)\n",
      "plt.xlabel('X times slower', fontsize=15)\n",
      "plt.title('Performance compared to pandas', fontsize=25)"
     ],
     "language": "python",
     "metadata": {},
     "outputs": [
      {
       "output_type": "stream",
       "stream": "stdout",
       "text": [
        "['pandas', 'bquery + bcolz (fact. cached)', 'blaze (pandas + bcolz)', 'bquery + bcolz']\n"
       ]
      },
      {
       "metadata": {},
       "output_type": "pyout",
       "prompt_number": 11,
       "text": [
        "<matplotlib.text.Text at 0x11e7f1a50>"
       ]
      },
      {
       "metadata": {},
       "output_type": "display_data",
       "png": "[encoded data removed]",
       "text": [
        "<matplotlib.figure.Figure at 0x1180a3390>"
       ]
      }
     ],
     "prompt_number": 11
    },
    {
     "cell_type": "markdown",
     "metadata": {},
     "source": [
      "The Light yellow shows the one-time factorization caching (which after the first run can be left out of future queries).  \n",
      "NB: when data changes, this caching has to be refreshed but it is very useful in most reporting & analytics cases."
     ]
    },
    {
     "cell_type": "markdown",
     "metadata": {},
     "source": [
      "## Complex scenario"
     ]
    },
    {
     "cell_type": "code",
     "collapsed": false,
     "input": [
      "elapsed_times = OrderedDict()\n",
      "\n",
      "ga = itt.cycle(['ES', 'NL'])\n",
      "gb = itt.cycle(['b1', 'b2', 'b3', 'b4'])\n",
      "gc = itt.cycle([1, 2])\n",
      "gd = itt.cycle([3, 4, 4, 3])\n",
      "ge = itt.cycle(['c','d','e'])\n",
      "gx = itt.cycle([1, 2])\n",
      "gy = itt.cycle([-1, -2])\n",
      "gz = itt.cycle([1.11, 2.22, 3.33, 4.44, 5.55])\n",
      "\n",
      "rootdir = 'bench-data.bcolz'\n",
      "if os.path.exists(rootdir):\n",
      "    shutil.rmtree(rootdir)\n",
      "\n",
      "n_rows = 1000000\n",
      "print('Rows: ', n_rows)\n",
      "    \n",
      "z = np.fromiter(((a, b, c, d, e, x, y, z) for a, b, c, d, e, x, y, z\n",
      "                 in itt.izip(ga, gb, gc, gd, ge, gx, gy, gz)),\n",
      "                dtype='S2,S2,i4,i8,S1,i4,i8,f8', count=n_rows)\n",
      "ct = bquery.ctable(z, rootdir=rootdir, )\n",
      "\n",
      "# -- pandas --\n",
      "df = pd.DataFrame(z)\n",
      "with ctime(message='pandas'):\n",
      "    result = df.groupby(['f0','f1','f2','f3','f4'], sort=False, as_index=False)['f5','f6','f7'].sum()\n",
      "print(result)\n",
      "\n",
      "# -- bquery --\n",
      "with ctime(message='bquery + bcolz'):\n",
      "    result = ct.groupby(['f0','f1','f2','f3','f4'], ['f5','f6','f7'])\n",
      "print(result)\n",
      "\n",
      "with ctime(message='bquery, create factorization cache'):\n",
      "    ct.cache_factor(['f0','f1','f2','f3','f4'], refresh=True)\n",
      "    \n",
      "with ctime(message='bquery over bcolz (factorization cached)'):\n",
      "    result = ct.groupby(['f0','f1','f2','f3','f4'], ['f5','f6','f7'])\n",
      "print(result)"
     ],
     "language": "python",
     "metadata": {},
     "outputs": [
      {
       "output_type": "stream",
       "stream": "stdout",
       "text": [
        "('Rows: ', 1000000)\n",
        "\n"
       ]
      },
      {
       "output_type": "stream",
       "stream": "stdout",
       "text": [
        "\n",
        "pandas:  "
       ]
      },
      {
       "output_type": "stream",
       "stream": "stdout",
       "text": [
        " 0.2969 sec\n",
        "    f0  f1  f2  f3 f4      f5      f6         f7\n",
        "0   ES  b1   1   3  c   83334  -83334  277501.11\n",
        "1   ES  b1   1   3  d   83333  -83333  277501.11\n",
        "2   ES  b1   1   3  e   83333  -83333  277497.78\n",
        "3   ES  b3   1   4  c   83333  -83333  277496.67\n",
        "4   ES  b3   1   4  d   83333  -83333  277498.89\n",
        "5   ES  b3   1   4  e   83334  -83334  277504.44\n",
        "6   NL  b2   2   4  c  166666 -166666  277501.11\n",
        "7   NL  b2   2   4  d  166668 -166668  277500.00\n",
        "8   NL  b2   2   4  e  166666 -166666  277498.89\n",
        "9   NL  b4   2   3  c  166668 -166668  277503.33\n",
        "10  NL  b4   2   3  d  166666 -166666  277500.00\n",
        "11  NL  b4   2   3  e  166666 -166666  277496.67\n",
        "\n",
        "\n",
        "bquery + bcolz:  "
       ]
      },
      {
       "output_type": "stream",
       "stream": "stdout",
       "text": [
        " 0.8396 sec\n",
        "[('ES', 'b1', 1, 3, 'c', 83334, -83334, 277501.10999974556)\n",
        " ('NL', 'b2', 2, 4, 'd', 166668, -166668, 277499.9999997456)\n",
        " ('ES', 'b3', 1, 4, 'e', 83334, -83334, 277504.4399997456)\n",
        " ('NL', 'b4', 2, 3, 'c', 166668, -166668, 277503.32999974553)\n",
        " ('ES', 'b1', 1, 3, 'd', 83333, -83333, 277501.10999974556)\n",
        " ('NL', 'b2', 2, 4, 'e', 166666, -166666, 277498.8899997456)\n",
        " ('ES', 'b3', 1, 4, 'c', 83333, -83333, 277496.66999974556)\n",
        " ('NL', 'b4', 2, 3, 'd', 166666, -166666, 277499.9999997456)\n",
        " ('ES', 'b1', 1, 3, 'e', 83333, -83333, 277497.77999974554)\n",
        " ('NL', 'b2', 2, 4, 'c', 166666, -166666, 277501.10999974556)\n",
        " ('ES', 'b3', 1, 4, 'd', 83333, -83333, 277498.8899997456)\n",
        " ('NL', 'b4', 2, 3, 'e', 166666, -166666, 277496.66999974556)]\n",
        "\n",
        "\n",
        "bquery, create factorization cache:  "
       ]
      },
      {
       "output_type": "stream",
       "stream": "stdout",
       "text": [
        " 0.3558 sec\n",
        "\n",
        "\n",
        "bquery over bcolz (factorization cached):  "
       ]
      },
      {
       "output_type": "stream",
       "stream": "stdout",
       "text": [
        " 0.5216 sec\n",
        "[('ES', 'b1', 1, 3, 'c', 83334, -83334, 277501.10999974556)\n",
        " ('NL', 'b2', 2, 4, 'd', 166668, -166668, 277499.9999997456)\n",
        " ('ES', 'b3', 1, 4, 'e', 83334, -83334, 277504.4399997456)\n",
        " ('NL', 'b4', 2, 3, 'c', 166668, -166668, 277503.32999974553)\n",
        " ('ES', 'b1', 1, 3, 'd', 83333, -83333, 277501.10999974556)\n",
        " ('NL', 'b2', 2, 4, 'e', 166666, -166666, 277498.8899997456)\n",
        " ('ES', 'b3', 1, 4, 'c', 83333, -83333, 277496.66999974556)\n",
        " ('NL', 'b4', 2, 3, 'd', 166666, -166666, 277499.9999997456)\n",
        " ('ES', 'b1', 1, 3, 'e', 83333, -83333, 277497.77999974554)\n",
        " ('NL', 'b2', 2, 4, 'c', 166666, -166666, 277501.10999974556)\n",
        " ('ES', 'b3', 1, 4, 'd', 83333, -83333, 277498.8899997456)\n",
        " ('NL', 'b4', 2, 3, 'e', 166666, -166666, 277496.66999974556)]\n"
       ]
      }
     ],
     "prompt_number": 12
    },
    {
     "cell_type": "code",
     "collapsed": false,
     "input": [
      "print('Complex Test Case Running Time relative to Pandas')\n",
      "elapsed_times_bak = OrderedDict({ k: v for (k,v) in sorted(elapsed_times.iteritems())})\n",
      "pp(elapsed_times_bak)\n",
      "elapsed_times = elapsed_times_bak\n",
      "elapsed_times_norm = OrderedDict({ k: v/elapsed_times['pandas'] for (k,v) in sorted(elapsed_times.iteritems())})\n",
      "print '\\nNormalized running time'\n",
      "pp(elapsed_times_norm)"
     ],
     "language": "python",
     "metadata": {},
     "outputs": [
      {
       "output_type": "stream",
       "stream": "stdout",
       "text": [
        "Complex Test Case Running Time relative to Pandas\n",
        "{\n",
        "    \"bquery + bcolz\": 0.839561939239502, \n",
        "    \"bquery over bcolz (factorization cached)\": 0.5216190814971924, \n",
        "    \"bquery, create factorization cache\": 0.35578012466430664, \n",
        "    \"pandas\": 0.296875\n",
        "}\n",
        "\n",
        "Normalized running time\n",
        "{\n",
        "    \"bquery + bcolz\": 2.827998111122533, \n",
        "    \"bquery over bcolz (factorization cached)\": 1.7570326955694902, \n",
        "    \"bquery, create factorization cache\": 1.198417262027138, \n",
        "    \"pandas\": 1.0\n",
        "}\n"
       ]
      }
     ],
     "prompt_number": 13
    },
    {
     "cell_type": "code",
     "collapsed": false,
     "input": [
      "if 'bquery, create factorization cache' in elapsed_times_norm:\n",
      "    base_bquery = elapsed_times_norm.pop('bquery, create factorization cache')\n",
      "labels = []\n",
      "val = []\n",
      "for k,v in sorted(elapsed_times_norm.iteritems(), reverse=True):\n",
      "    labels.append(k)\n",
      "    val.append(v)\n",
      "\n",
      "pos = np.arange(len(elapsed_times_norm))+.5    # the bar centers on the y axis\n",
      "\n",
      "print elapsed_times_norm.keys()\n",
      "plt.figure(1, figsize=[15,5])\n",
      "plt.grid(True)\n",
      "plt.barh(pos,val, align='center')\n",
      "plt.barh(pos,[0, base_bquery, 0], \n",
      "         left=[0, elapsed_times_norm['bquery over bcolz (factorization cached)'], 0],\n",
      "         align='center', color = '#FFFFCC')\n",
      "plt.yticks(pos, labels, fontsize=15)\n",
      "plt.xlabel('X times slower', fontsize=15)\n",
      "plt.title('Performance compared to pandas', fontsize=25)"
     ],
     "language": "python",
     "metadata": {},
     "outputs": [
      {
       "output_type": "stream",
       "stream": "stdout",
       "text": [
        "['pandas', 'bquery over bcolz (factorization cached)', 'bquery + bcolz']\n"
       ]
      },
      {
       "metadata": {},
       "output_type": "pyout",
       "prompt_number": 14,
       "text": [
        "<matplotlib.text.Text at 0x110413950>"
       ]
      },
      {
       "metadata": {},
       "output_type": "display_data",
       "png": "[encoded data removed]",
       "text": [
        "<matplotlib.figure.Figure at 0x1180a3090>"
       ]
      }
     ],
     "prompt_number": 14
    },
    {
     "cell_type": "markdown",
     "metadata": {},
     "source": [
      "## Conclusion\n",
      "Currently -in our experience- the real-life performance of sum aggregations using on-disk bcolz queries depending on machine are normally between 2.0 and 3.0 times slower than similar in-memory Pandas aggregations.\n",
      "\n",
      "There are many scenarios where you would like to perform a number of groupby operations over a number of large files, creating issues with memory management and hot set selection. However, through bcolz and bquery you can have an out-of-core solution that is near in-memory in terms of size while creating the possibility to handle very large data sets with limited hardware.\n",
      "\n",
      "It is important to notice that while the end result is a bcolz ctable (which can be out-of-core) and the input can be any out-of-core ctable, the intermediate result will be an in-memory numpy array. This is because most groupby operations on non-sorted tables require random memory access while bcolz is limited to sequential access for optimum performance. However, this memory footprint is limited to the groupby result length and can be further optimized in the future to a per-column usage.  \n"
     ]
    },
    {
     "cell_type": "code",
     "collapsed": false,
     "input": [],
     "language": "python",
     "metadata": {},
     "outputs": []
    }
   ],
   "metadata": {}
  }
 ]
}