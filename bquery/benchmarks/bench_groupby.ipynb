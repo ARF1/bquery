{
 "metadata": {
  "name": "",
  "signature": "sha256:cdcb70e22f1df3d25c1f263b79995ca05536c012be49162d13cd7b4562541e6d"
 },
 "nbformat": 3,
 "nbformat_minor": 0,
 "worksheets": [
  {
   "cells": [
    {
     "cell_type": "markdown",
     "metadata": {},
     "source": [
      "# Bquery - groupby on-disk\n",
      "\n",
      "In this notebook we will compare the performance several groupby solutions over out-of-core (disk-based) bcolz files against Python's golden standard: the fast, in-memory Pandas framework.\n",
      "\n",
      "Our goal is to show how with bcolz you can approach (and in some cases even exceed) the Pandas in-memory performance while working with solutions that only have the intermediate and/or end result in-memory.\n",
      "\n",
      "We will have two test cases: \n",
      "1) a query with a single groupby column and a single aggregated (sum) column\n",
      "2) a query with five groupby columns and three aggregated (sum) columns\n",
      "\n",
      "This is a simple example with 1 million rows, but you can experiment with other sizes to see how they affect the outcome.\n",
      "\n",
      "This performance comparison was run on a 16gb ram, 8 core, SSD-based DigitalOcean server on Ubuntu 14.04. System caching might influence the results, but in our experience this very much resembles our real-life experience. We encourage anyone to have their own test and share them with us.\n",
      "\n",
      "For the impatient, you can scroll to the end to see a graphical presentation of the performance results.\n",
      "\n",
      "The bquery framework provides methods to perform query and aggregation operations on bcolz containers, as well as accelerate these operations by pre-processing possible groupby columns.\n",
      "\n",
      "Bcolz is a light weight package that provides columnar, chunked data containers that can be compressed either in-memory and on-disk. that are compressed by default not only for reducing memory/disk storage, but also to improve I/O speed. It excels at storing and sequentially accessing large, numerical data sets.  \n",
      "\n",
      "The code you'll find below was inspired on the following nicely written notebooks:  \n",
      "Blaze - http://nbviewer.ipython.org/url/blaze.pydata.org/notebooks/timings-bcolz.ipynb  \n",
      "Bcolz - http://nbviewer.ipython.org/github/Blosc/movielens-bench/blob/master/querying-ep14.ipynb"
     ]
    },
    {
     "cell_type": "code",
     "collapsed": false,
     "input": [
      "%matplotlib inline"
     ],
     "language": "python",
     "metadata": {},
     "outputs": [],
     "prompt_number": 15
    },
    {
     "cell_type": "code",
     "collapsed": false,
     "input": [
      "import matplotlib.pyplot as plt\n",
      "import numpy as np\n",
      "import itertools as itt\n",
      "import time\n",
      "import shutil\n",
      "import os\n",
      "import contextlib\n",
      "import pandas as pd\n",
      "import blaze as blz\n",
      "import bquery\n",
      "import cytoolz\n",
      "from cytoolz.curried import pluck as cytoolz_pluck\n",
      "from collections import OrderedDict\n",
      "import copy\n",
      "from prettyprint import pp"
     ],
     "language": "python",
     "metadata": {},
     "outputs": [],
     "prompt_number": 16
    },
    {
     "cell_type": "code",
     "collapsed": false,
     "input": [
      "elapsed_times = OrderedDict()\n",
      "\n",
      "@contextlib.contextmanager\n",
      "def ctime(message=None):\n",
      "    \"Counts the time spent in some context\"\n",
      "    assert message is not None\n",
      "    global elapsed_times\n",
      "    t_elapsed = 0.0\n",
      "    print('\\n')\n",
      "    t = time.time()\n",
      "    yield\n",
      "    if message:\n",
      "        print message + \":  \", \n",
      "    t_elapsed = time.time() - t\n",
      "    print round(t_elapsed, 4), \"sec\"\n",
      "    elapsed_times[message] = t_elapsed\n",
      "\n",
      "\n",
      "ga = itt.cycle(['ES', 'NL'])\n",
      "gb = itt.cycle(['b1', 'b2', 'b3', 'b4', 'b5'])\n",
      "gx = itt.cycle([1, 2])\n",
      "gy = itt.cycle([-1, -2])\n",
      "rootdir = 'bench-data.bcolz'\n",
      "if os.path.exists(rootdir):\n",
      "    shutil.rmtree(rootdir)\n",
      "\n",
      "n_rows = 1000000\n",
      "\n",
      "# -- data\n",
      "z = np.fromiter(((a, b, x, y) for a, b, x, y in itt.izip(ga, gb, gx, gy)),\n",
      "                dtype='S2,S2,i8,i8', count=n_rows)"
     ],
     "language": "python",
     "metadata": {},
     "outputs": [],
     "prompt_number": 17
    },
    {
     "cell_type": "code",
     "collapsed": false,
     "input": [
      "ct = bquery.ctable(z, rootdir=rootdir)\n",
      "ct.flush()"
     ],
     "language": "python",
     "metadata": {},
     "outputs": [],
     "prompt_number": 18
    },
    {
     "cell_type": "markdown",
     "metadata": {},
     "source": [
      "### pandas"
     ]
    },
    {
     "cell_type": "code",
     "collapsed": false,
     "input": [
      "print('Simple Test Case')\n",
      "df = pd.DataFrame(z)\n",
      "with ctime(message='pandas'):\n",
      "    result = df.groupby(['f0'])['f2'].sum()\n",
      "print(result)"
     ],
     "language": "python",
     "metadata": {},
     "outputs": [
      {
       "output_type": "stream",
       "stream": "stdout",
       "text": [
        "Simple Test Case\n",
        "\n"
       ]
      },
      {
       "output_type": "stream",
       "stream": "stdout",
       "text": [
        "\n",
        "pandas:  "
       ]
      },
      {
       "output_type": "stream",
       "stream": "stdout",
       "text": [
        " 0.0921 sec\n",
        "f0\n",
        "ES     500000\n",
        "NL    1000000\n",
        "Name: f2, dtype: int64\n"
       ]
      }
     ],
     "prompt_number": 19
    },
    {
     "cell_type": "markdown",
     "metadata": {},
     "source": [
      "### blaze"
     ]
    },
    {
     "cell_type": "code",
     "collapsed": false,
     "input": [
      "print('Simple Test Case')\n",
      "blaze_data = blz.Data(ct.rootdir)\n",
      "expr = blz.by(blaze_data.f0, sum_f2=blaze_data.f2.sum())\n",
      "with ctime(message='blaze (pandas + bcolz)'):\n",
      "    result = blz.compute(expr)\n",
      "print result"
     ],
     "language": "python",
     "metadata": {},
     "outputs": [
      {
       "output_type": "stream",
       "stream": "stdout",
       "text": [
        "Simple Test Case\n",
        "\n",
        "\n",
        "blaze (pandas + bcolz):  "
       ]
      },
      {
       "output_type": "stream",
       "stream": "stdout",
       "text": [
        " 0.522 sec\n",
        "   f0   sum_f2\n",
        "0  ES   500000\n",
        "1  NL  1000000\n"
       ]
      }
     ],
     "prompt_number": 20
    },
    {
     "cell_type": "markdown",
     "metadata": {},
     "source": [
      "### bquery without caching"
     ]
    },
    {
     "cell_type": "code",
     "collapsed": false,
     "input": [
      "print('Simple Test Case')\n",
      "with ctime(message='bquery + bcolz'):\n",
      "    result = ct.groupby(['f0'], ['f2'])\n",
      "print(result)"
     ],
     "language": "python",
     "metadata": {},
     "outputs": [
      {
       "output_type": "stream",
       "stream": "stdout",
       "text": [
        "Simple Test Case\n",
        "\n",
        "\n",
        "bquery + bcolz:  "
       ]
      },
      {
       "output_type": "stream",
       "stream": "stdout",
       "text": [
        " 0.3953 sec\n",
        "[('ES', 500000) ('NL', 1000000)]\n"
       ]
      }
     ],
     "prompt_number": 21
    },
    {
     "cell_type": "code",
     "collapsed": false,
     "input": [
      "### bquery with caching"
     ],
     "language": "python",
     "metadata": {},
     "outputs": [],
     "prompt_number": 22
    },
    {
     "cell_type": "code",
     "collapsed": false,
     "input": [
      "print('Simple Test Case')\n",
      "with ctime(message='bquery, create factorization cache'):\n",
      "    ct.cache_factor(['f0'], refresh=True)\n",
      "\n",
      "with ctime(message='bquery + bcolz (fact. cached)'):\n",
      "    result = ct.groupby(['f0'], ['f2'])\n",
      "print(result)"
     ],
     "language": "python",
     "metadata": {},
     "outputs": [
      {
       "output_type": "stream",
       "stream": "stdout",
       "text": [
        "Simple Test Case\n",
        "\n",
        "\n",
        "bquery, create factorization cache:  "
       ]
      },
      {
       "output_type": "stream",
       "stream": "stdout",
       "text": [
        " 0.1431 sec\n",
        "\n",
        "\n",
        "bquery + bcolz (fact. cached):  "
       ]
      },
      {
       "output_type": "stream",
       "stream": "stdout",
       "text": [
        " 0.2942 sec\n",
        "[('ES', 500000) ('NL', 1000000)]\n"
       ]
      }
     ],
     "prompt_number": 23
    },
    {
     "cell_type": "code",
     "collapsed": false,
     "input": [
      "### Running Times Summary"
     ],
     "language": "python",
     "metadata": {},
     "outputs": [],
     "prompt_number": 24
    },
    {
     "cell_type": "code",
     "collapsed": false,
     "input": [
      "print('Simple Test Case Running Time')\n",
      "elapsed_times_bak = OrderedDict({ k: v for (k,v) in sorted(elapsed_times.iteritems())})\n",
      "pp(elapsed_times_bak)"
     ],
     "language": "python",
     "metadata": {},
     "outputs": [
      {
       "output_type": "stream",
       "stream": "stdout",
       "text": [
        "Simple Test Case Running Time\n",
        "{\n",
        "    \"blaze (pandas + bcolz)\": 0.5220499038696289, \n",
        "    \"bquery + bcolz\": 0.39530181884765625, \n",
        "    \"bquery + bcolz (fact. cached)\": 0.2941908836364746, \n",
        "    \"bquery, create factorization cache\": 0.1431419849395752, \n",
        "    \"pandas\": 0.09209179878234863\n",
        "}\n"
       ]
      }
     ],
     "prompt_number": 25
    },
    {
     "cell_type": "code",
     "collapsed": false,
     "input": [
      "print('Simple Test Case Running Time relative to Pandas')\n",
      "elapsed_times_bak = OrderedDict({ k: v for (k,v) in sorted(elapsed_times.iteritems())})\n",
      "pp(elapsed_times_bak)\n",
      "elapsed_times = elapsed_times_bak\n",
      "elapsed_times_norm = OrderedDict({ k: v/elapsed_times['pandas'] for (k,v) in sorted(elapsed_times.iteritems())})\n",
      "print '\\nNormalized running time'\n",
      "pp(elapsed_times_norm)"
     ],
     "language": "python",
     "metadata": {},
     "outputs": [
      {
       "output_type": "stream",
       "stream": "stdout",
       "text": [
        "Simple Test Case Running Time relative to Pandas\n",
        "{\n",
        "    \"blaze (pandas + bcolz)\": 0.5220499038696289, \n",
        "    \"bquery + bcolz\": 0.39530181884765625, \n",
        "    \"bquery + bcolz (fact. cached)\": 0.2941908836364746, \n",
        "    \"bquery, create factorization cache\": 0.1431419849395752, \n",
        "    \"pandas\": 0.09209179878234863\n",
        "}\n",
        "\n",
        "Normalized running time\n",
        "{\n",
        "    \"blaze (pandas + bcolz)\": 5.668799076272261, \n",
        "    \"bquery + bcolz\": 4.292475812986556, \n",
        "    \"bquery + bcolz (fact. cached)\": 3.194539443536883, \n",
        "    \"bquery, create factorization cache\": 1.5543402000201936, \n",
        "    \"pandas\": 1.0\n",
        "}\n"
       ]
      }
     ],
     "prompt_number": 26
    },
    {
     "cell_type": "code",
     "collapsed": false,
     "input": [
      "### Graphic Summary"
     ],
     "language": "python",
     "metadata": {},
     "outputs": [],
     "prompt_number": 27
    },
    {
     "cell_type": "code",
     "collapsed": false,
     "input": [
      "if 'bquery, create factorization cache' in elapsed_times_norm:\n",
      "    base_bquery = elapsed_times_norm.pop('bquery, create factorization cache')\n",
      "labels = []\n",
      "val = []\n",
      "for k,v in sorted(elapsed_times_norm.iteritems(), reverse=True):\n",
      "    labels.append(k)\n",
      "    val.append(v)\n",
      "\n",
      "pos = np.arange(len(elapsed_times_norm))+.5    # the bar centers on the y axis\n",
      "\n",
      "print elapsed_times_norm.keys()\n",
      "plt.figure(1, figsize=[15,5])\n",
      "plt.grid(True)\n",
      "plt.barh(pos,val, align='center')\n",
      "plt.barh(pos,[0, base_bquery, 0,0], \n",
      "         left=[0, elapsed_times_norm['bquery + bcolz (fact. cached)'], 0, 0],\n",
      "         align='center', color = '#FFFFCC')\n",
      "plt.yticks(pos, labels, fontsize=15)\n",
      "plt.xlabel('X times slower', fontsize=15)\n",
      "plt.title('Performance compared to pandas', fontsize=25)"
     ],
     "language": "python",
     "metadata": {},
     "outputs": [
      {
       "output_type": "stream",
       "stream": "stdout",
       "text": [
        "['pandas', 'bquery + bcolz (fact. cached)', 'blaze (pandas + bcolz)', 'bquery + bcolz']\n"
       ]
      },
      {
       "metadata": {},
       "output_type": "pyout",
       "prompt_number": 28,
       "text": [
        "<matplotlib.text.Text at 0x7f7da58b0090>"
       ]
      },
      {
       "metadata": {},
       "output_type": "display_data",
       "png": "[encoded data removed]",
       "text": [
        "<matplotlib.figure.Figure at 0x7f7d9d24af10>"
       ]
      }
     ],
     "prompt_number": 28
    },
    {
     "cell_type": "markdown",
     "metadata": {},
     "source": [
      "The Light yellow shows the one-time factorization caching (which after the first run can be left out of future queries).  \n",
      "NB: when data changes, this caching has to be refreshed but it is very useful in most reporting & analytics cases."
     ]
    },
    {
     "cell_type": "markdown",
     "metadata": {},
     "source": [
      "## Conclusion\n",
      "Currently -in our experience- the real-life performance of sum aggregations using on-disk bcolz queries depending on machine are normally between 2.0 and 3.0 times slower than similar in-memory Pandas aggregations.\n",
      "\n",
      "There are many scenarios where you would like to perform a number of groupby operations over a number of large files, creating issues with memory management and hot set selection. However, through bcolz and bquery you can have an out-of-core solution that is near in-memory in terms of size while creating the possibility to handle very large data sets with limited hardware.\n",
      "\n",
      "It is important to notice that while the end result is a bcolz ctable (which can be out-of-core) and the input can be any out-of-core ctable, the intermediate result will be an in-memory numpy array. This is because most groupby operations on non-sorted tables require random memory access while bcolz is limited to sequential access for optimum performance. However, this memory footprint is limited to the groupby result length and can be further optimized in the future to a per-column usage.  \n"
     ]
    },
    {
     "cell_type": "code",
     "collapsed": false,
     "input": [],
     "language": "python",
     "metadata": {},
     "outputs": []
    }
   ],
   "metadata": {}
  }
 ]
}