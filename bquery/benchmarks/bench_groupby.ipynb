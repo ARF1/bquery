{
 "metadata": {
  "name": "",
  "signature": "sha256:de49aeb4939d519dd3a1a5d37ce04b3c88e8a4a99c7b1bff0d28a2d6d914004a"
 },
 "nbformat": 3,
 "nbformat_minor": 0,
 "worksheets": [
  {
   "cells": [
    {
     "cell_type": "markdown",
     "metadata": {},
     "source": [
      "# Bquery - groupby on-disk\n",
      "\n",
      "The bquery framework provides methods to perform query and aggregation operations on bcolz containers, as well as accelerate these operations by pre-processing possible groupby columns.\n",
      "\n",
      "Bcolz is a light weight package that provides columnar, chunked data containers that can be compressed either in-memory and on-disk. that are compressed by default not only for reducing memory/disk storage, but also to improve I/O speed. It excels at storing and sequentially accessing large, numerical data sets.  \n",
      "\n",
      "In this notebook we will try to compare on-disk groupby solutions over bcolz against the fast in-memory pandas package.\n",
      "\n",
      "The code you'll find below was inspired on the following nicely written notebooks:  \n",
      "Blaze - http://nbviewer.ipython.org/url/blaze.pydata.org/notebooks/timings-bcolz.ipynb  \n",
      "Bcolz - http://nbviewer.ipython.org/github/Blosc/movielens-bench/blob/master/querying-ep14.ipynb"
     ]
    },
    {
     "cell_type": "code",
     "collapsed": false,
     "input": [
      "%matplotlib inline"
     ],
     "language": "python",
     "metadata": {},
     "outputs": [],
     "prompt_number": 1
    },
    {
     "cell_type": "code",
     "collapsed": false,
     "input": [
      "import matplotlib.pyplot as plt\n",
      "import numpy as np\n",
      "import itertools as itt\n",
      "import time\n",
      "import shutil\n",
      "import os\n",
      "import contextlib\n",
      "import pandas as pd\n",
      "import blaze as blz\n",
      "import bquery\n",
      "import cytoolz\n",
      "from cytoolz.curried import pluck as cytoolz_pluck\n",
      "from collections import OrderedDict\n",
      "import copy\n",
      "from prettyprint import pp"
     ],
     "language": "python",
     "metadata": {},
     "outputs": [],
     "prompt_number": 2
    },
    {
     "cell_type": "code",
     "collapsed": false,
     "input": [
      "elapsed_times = OrderedDict()\n",
      "\n",
      "@contextlib.contextmanager\n",
      "def ctime(message=None):\n",
      "    \"Counts the time spent in some context\"\n",
      "    assert message is not None\n",
      "    global elapsed_times\n",
      "    t_elapsed = 0.0\n",
      "    print('\\n')\n",
      "    t = time.time()\n",
      "    yield\n",
      "    if message:\n",
      "        print message + \":  \", \n",
      "    t_elapsed = time.time() - t\n",
      "    print round(t_elapsed, 4), \"sec\"\n",
      "    elapsed_times[message] = t_elapsed\n",
      "\n",
      "\n",
      "ga = itt.cycle(['ES', 'NL'])\n",
      "gb = itt.cycle(['b1', 'b2', 'b3', 'b4', 'b5'])\n",
      "gx = itt.cycle([1, 2])\n",
      "gy = itt.cycle([-1, -2])\n",
      "rootdir = 'bench-data.bcolz'\n",
      "if os.path.exists(rootdir):\n",
      "    shutil.rmtree(rootdir)\n",
      "\n",
      "n_rows = 1000000\n",
      "\n",
      "# -- data\n",
      "z = np.fromiter(((a, b, x, y) for a, b, x, y in itt.izip(ga, gb, gx, gy)),\n",
      "                dtype='S2,S2,i8,i8', count=n_rows)"
     ],
     "language": "python",
     "metadata": {},
     "outputs": [],
     "prompt_number": 3
    },
    {
     "cell_type": "code",
     "collapsed": false,
     "input": [
      "ct = bquery.ctable(z, rootdir=rootdir, )"
     ],
     "language": "python",
     "metadata": {},
     "outputs": [],
     "prompt_number": 4
    },
    {
     "cell_type": "markdown",
     "metadata": {},
     "source": [
      "### pandas"
     ]
    },
    {
     "cell_type": "code",
     "collapsed": false,
     "input": [
      "df = pd.DataFrame(z)\n",
      "with ctime(message='pandas'):\n",
      "    result = df.groupby(['f0'])['f2'].sum()\n",
      "print(result)"
     ],
     "language": "python",
     "metadata": {},
     "outputs": [
      {
       "output_type": "stream",
       "stream": "stdout",
       "text": [
        "\n",
        "\n",
        "pandas:  "
       ]
      },
      {
       "output_type": "stream",
       "stream": "stdout",
       "text": [
        " 0.0606 sec\n",
        "f0\n",
        "ES     500000\n",
        "NL    1000000\n",
        "Name: f2, dtype: int64\n"
       ]
      }
     ],
     "prompt_number": 5
    },
    {
     "cell_type": "markdown",
     "metadata": {},
     "source": [
      "### blaze"
     ]
    },
    {
     "cell_type": "code",
     "collapsed": false,
     "input": [
      "blaze_data = blz.Data(ct.rootdir)\n",
      "expr = blz.by(blaze_data.f0, sum_f2=blaze_data.f2.sum())\n",
      "with ctime(message='blaze (pandas + bcolz)'):\n",
      "    result = blz.compute(expr)\n",
      "print result"
     ],
     "language": "python",
     "metadata": {},
     "outputs": [
      {
       "output_type": "stream",
       "stream": "stdout",
       "text": [
        "\n",
        "\n",
        "blaze (pandas + bcolz):  "
       ]
      },
      {
       "output_type": "stream",
       "stream": "stdout",
       "text": [
        " 0.299 sec\n",
        "   f0   sum_f2\n",
        "0  ES   500000\n",
        "1  NL  1000000\n"
       ]
      }
     ],
     "prompt_number": 6
    },
    {
     "cell_type": "markdown",
     "metadata": {},
     "source": [
      "### bquery"
     ]
    },
    {
     "cell_type": "code",
     "collapsed": false,
     "input": [
      "with ctime(message='bquery + bcolz'):\n",
      "    result = ct.groupby(['f0'], ['f2'])\n",
      "print(result)\n",
      "\n",
      "with ctime(message='bquery, factorization'):\n",
      "    ct.cache_factor(['f0'], refresh=True)\n",
      "\n",
      "with ctime(message='bquery + bcolz (fact. cached)'):\n",
      "    result = ct.groupby(['f0'], ['f2'])\n",
      "print(result)"
     ],
     "language": "python",
     "metadata": {},
     "outputs": [
      {
       "output_type": "stream",
       "stream": "stdout",
       "text": [
        "\n",
        "\n",
        "bquery + bcolz:  "
       ]
      },
      {
       "output_type": "stream",
       "stream": "stdout",
       "text": [
        " 0.2084 sec\n",
        "[('ES', 500000) ('NL', 1000000)]\n",
        "\n",
        "\n",
        "bquery, factorization:  "
       ]
      },
      {
       "output_type": "stream",
       "stream": "stdout",
       "text": [
        " 0.0875 sec\n",
        "\n",
        "\n",
        "bquery + bcolz (fact. cached):  "
       ]
      },
      {
       "output_type": "stream",
       "stream": "stdout",
       "text": [
        " 0.1298 sec\n",
        "[('ES', 500000) ('NL', 1000000)]\n"
       ]
      }
     ],
     "prompt_number": 7
    },
    {
     "cell_type": "code",
     "collapsed": false,
     "input": [
      "elapsed_times_bak = OrderedDict({ k: v for (k,v) in sorted(elapsed_times.iteritems())})\n",
      "print 'Running time'\n",
      "pp(elapsed_times_bak)"
     ],
     "language": "python",
     "metadata": {},
     "outputs": [
      {
       "output_type": "stream",
       "stream": "stdout",
       "text": [
        "Running time\n",
        "{\n",
        "    \"blaze (pandas + bcolz)\": 0.29895591735839844, \n",
        "    \"bquery + bcolz\": 0.2083909511566162, \n",
        "    \"bquery + bcolz (fact. cached)\": 0.12977099418640137, \n",
        "    \"bquery, factorization\": 0.08745312690734863, \n",
        "    \"pandas\": 0.06064009666442871\n",
        "}\n"
       ]
      }
     ],
     "prompt_number": 8
    },
    {
     "cell_type": "code",
     "collapsed": false,
     "input": [
      "elapsed_times = elapsed_times_bak\n",
      "elapsed_times_norm = OrderedDict({ k: v/elapsed_times['pandas'] for (k,v) in sorted(elapsed_times.iteritems())})\n",
      "print 'Normalized running time'\n",
      "pp(elapsed_times_norm)"
     ],
     "language": "python",
     "metadata": {},
     "outputs": [
      {
       "output_type": "stream",
       "stream": "stdout",
       "text": [
        "Normalized running time\n",
        "{\n",
        "    \"blaze (pandas + bcolz)\": 4.930003971015519, \n",
        "    \"bquery + bcolz\": 3.436520761334104, \n",
        "    \"bquery + bcolz (fact. cached)\": 2.140019579858695, \n",
        "    \"bquery, factorization\": 1.4421666804276114, \n",
        "    \"pandas\": 1.0\n",
        "}\n"
       ]
      }
     ],
     "prompt_number": 9
    },
    {
     "cell_type": "code",
     "collapsed": false,
     "input": [
      "if 'bquery, factorization' in elapsed_times_norm:\n",
      "    base_bquery =  elapsed_times_norm['bquery, factorization']\n",
      "    elapsed_times_norm.pop('bquery, factorization')\n",
      "pp(elapsed_times_norm)"
     ],
     "language": "python",
     "metadata": {},
     "outputs": [
      {
       "output_type": "stream",
       "stream": "stdout",
       "text": [
        "{\n",
        "    \"blaze (pandas + bcolz)\": 4.930003971015519, \n",
        "    \"bquery + bcolz\": 3.436520761334104, \n",
        "    \"bquery + bcolz (fact. cached)\": 2.140019579858695, \n",
        "    \"pandas\": 1.0\n",
        "}\n"
       ]
      }
     ],
     "prompt_number": 10
    },
    {
     "cell_type": "code",
     "collapsed": false,
     "input": [
      "labels = []\n",
      "val = []\n",
      "for k,v in sorted(elapsed_times_norm.iteritems(), reverse=True):\n",
      "    labels.append(k)\n",
      "    val.append(v)"
     ],
     "language": "python",
     "metadata": {},
     "outputs": [],
     "prompt_number": 11
    },
    {
     "cell_type": "code",
     "collapsed": false,
     "input": [
      "    # the bar lengths\n",
      "pos = np.arange(len(elapsed_times_norm))+.5    # the bar centers on the y axis\n",
      "\n",
      "print elapsed_times_norm.keys()\n",
      "plt.figure(1, figsize=[15,5])\n",
      "plt.grid(True)\n",
      "plt.barh(pos,val, align='center')\n",
      "plt.barh(pos,[0, base_bquery, 0,0], \n",
      "         left=[0, elapsed_times_norm['bquery + bcolz (fact. cached)'], 0, 0],\n",
      "         align='center', color = '#FFFFCC')\n",
      "plt.yticks(pos, labels, fontsize=15)\n",
      "plt.xlabel('X times slower', fontsize=15)\n",
      "plt.title('Performance compared to pandas', fontsize=25)"
     ],
     "language": "python",
     "metadata": {},
     "outputs": [
      {
       "output_type": "stream",
       "stream": "stdout",
       "text": [
        "['pandas', 'bquery + bcolz (fact. cached)', 'blaze (pandas + bcolz)', 'bquery + bcolz']\n"
       ]
      },
      {
       "metadata": {},
       "output_type": "pyout",
       "prompt_number": 12,
       "text": [
        "<matplotlib.text.Text at 0x11ff38350>"
       ]
      },
      {
       "metadata": {},
       "output_type": "display_data",
       "png": "[encoded data removed]",
       "text": [
        "<matplotlib.figure.Figure at 0x119f8c710>"
       ]
      }
     ],
     "prompt_number": 12
    },
    {
     "cell_type": "markdown",
     "metadata": {},
     "source": [
      "Light yellow you see how much time you save by caching factorization and saving this intermediate results to disk.  \n",
      "Next time groupby is called there will be no need to recompute the columns that have been already factorized, this technich will save computing time, one should keep in mind that if data changes caching is no longer useful and should be triggered again."
     ]
    },
    {
     "cell_type": "markdown",
     "metadata": {},
     "source": [
      "## Conclusion\n",
      "Currently the real-life performance of sum aggregations using on-disk bcolz queries depending on machine are normally between 1.5 and 3.0 times slower than similar in-memory Pandas aggregations.  \n",
      "\n",
      "Appart from pandas all other options load data from disk, one should take into account how much time would take to load all this data from disk, let's say a csv file\n",
      "\n",
      "It is important to notice that while the end result is a bcolz ctable (which can be out-of-core) and the input can be any out-of-core ctable, the intermediate result will be an in-memory numpy array. This is because most groupby operations on non-sorted tables require random memory access while bcolz is limited to sequential access for optimum performance. However, this memory footprint is limited to the groupby result length and can be further optimized in the future to a per-column usage.  "
     ]
    }
   ],
   "metadata": {}
  }
 ]
}